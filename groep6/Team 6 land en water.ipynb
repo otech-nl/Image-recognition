{
 "cells": [
  {
   "cell_type": "markdown",
   "metadata": {},
   "source": [
    "# Kennisnetwerk Data Science: image recognition\n",
    "## Team 6: land en water"
   ]
  },
  {
   "cell_type": "code",
   "execution_count": 125,
   "metadata": {},
   "outputs": [
    {
     "data": {
      "text/plain": [
       "<matplotlib.axes._subplots.AxesSubplot at 0x7f163cbbcd68>"
      ]
     },
     "execution_count": 125,
     "metadata": {},
     "output_type": "execute_result"
    },
    {
     "data": {
      "image/png": "[encoded data removed]",
      "text/plain": [
       "<Figure size 432x288 with 1 Axes>"
      ]
     },
     "metadata": {},
     "output_type": "display_data"
    }
   ],
   "source": [
    "from PIL import Image\n",
    "import pandas as pd\n",
    "from pandas.plotting import scatter_matrix\n",
    "import numpy as np\n",
    "import matplotlib.pyplot as plt\n",
    "\n",
    "plt.style.use('ggplot')\n",
    "%matplotlib inline\n",
    "\n",
    "\n",
    "def img2df(path):\n",
    "    ''' read an image into a dataframe '''\n",
    "    img = Image.open(path)\n",
    "    arr = np.array(img.getdata())\n",
    "    df = pd.DataFrame(arr)\n",
    "    return df\n",
    "\n",
    "\n",
    "coords = '163600.0_563400.0'\n",
    "\n",
    "# read image\n",
    "img = img2df('./%s.tif' % coords)\n",
    "img.columns = ['R', 'G', 'B']\n",
    "\n",
    "# read label and mark water\n",
    "lbl = img2df('./WaterVlakkenRasterUitBGT_%s.tif' % coords)\n",
    "lbl['water'] = lbl[0] == 0  # black pixels are water\n",
    "del lbl[0]\n",
    "\n",
    "# join image and label\n",
    "df = img.join(lbl)\n",
    "width, height = Image.open('./%s.tif' % coords).size\n",
    "size = width * height\n",
    "df['x'] = [i % 1000 for i in range(size)]\n",
    "df['y'] = [i // 1000 for i in range(size)]\n",
    "df.set_index(['x', 'y'], inplace=True)\n",
    "df.boxplot()"
   ]
  },
  {
   "cell_type": "code",
   "execution_count": 126,
   "metadata": {},
   "outputs": [
    {
     "data": {
      "text/plain": [
       "<matplotlib.axes._subplots.AxesSubplot at 0x7f163bf13240>"
      ]
     },
     "execution_count": 126,
     "metadata": {},
     "output_type": "execute_result"
    },
    {
     "data": {
      "image/png": "[encoded data removed]",
      "text/plain": [
       "<Figure size 432x288 with 1 Axes>"
      ]
     },
     "metadata": {},
     "output_type": "display_data"
    }
   ],
   "source": [
    "water = df[df['water']]\n",
    "water.boxplot()"
   ]
  },
  {
   "cell_type": "code",
   "execution_count": 127,
   "metadata": {},
   "outputs": [
    {
     "data": {
      "text/html": [
       "<div>\n",
       "<style scoped>\n",
       "    .dataframe tbody tr th:only-of-type {\n",
       "        vertical-align: middle;\n",
       "    }\n",
       "\n",
       "    .dataframe tbody tr th {\n",
       "        vertical-align: top;\n",
       "    }\n",
       "\n",
       "    .dataframe thead th {\n",
       "        text-align: right;\n",
       "    }\n",
       "</style>\n",
       "<table border=\"1\" class=\"dataframe\">\n",
       "  <thead>\n",
       "    <tr style=\"text-align: right;\">\n",
       "      <th></th>\n",
       "      <th>R</th>\n",
       "      <th>G</th>\n",
       "      <th>B</th>\n",
       "    </tr>\n",
       "  </thead>\n",
       "  <tbody>\n",
       "    <tr>\n",
       "      <th>count</th>\n",
       "      <td>265301.000000</td>\n",
       "      <td>265301.000000</td>\n",
       "      <td>265301.000000</td>\n",
       "    </tr>\n",
       "    <tr>\n",
       "      <th>mean</th>\n",
       "      <td>90.345264</td>\n",
       "      <td>95.771226</td>\n",
       "      <td>97.253795</td>\n",
       "    </tr>\n",
       "    <tr>\n",
       "      <th>std</th>\n",
       "      <td>17.568074</td>\n",
       "      <td>15.862048</td>\n",
       "      <td>13.690633</td>\n",
       "    </tr>\n",
       "    <tr>\n",
       "      <th>min</th>\n",
       "      <td>47.000000</td>\n",
       "      <td>58.000000</td>\n",
       "      <td>57.000000</td>\n",
       "    </tr>\n",
       "    <tr>\n",
       "      <th>25%</th>\n",
       "      <td>83.000000</td>\n",
       "      <td>88.000000</td>\n",
       "      <td>91.000000</td>\n",
       "    </tr>\n",
       "    <tr>\n",
       "      <th>50%</th>\n",
       "      <td>85.000000</td>\n",
       "      <td>90.000000</td>\n",
       "      <td>93.000000</td>\n",
       "    </tr>\n",
       "    <tr>\n",
       "      <th>75%</th>\n",
       "      <td>87.000000</td>\n",
       "      <td>94.000000</td>\n",
       "      <td>96.000000</td>\n",
       "    </tr>\n",
       "    <tr>\n",
       "      <th>max</th>\n",
       "      <td>255.000000</td>\n",
       "      <td>255.000000</td>\n",
       "      <td>255.000000</td>\n",
       "    </tr>\n",
       "  </tbody>\n",
       "</table>\n",
       "</div>"
      ],
      "text/plain": [
       "                   R              G              B\n",
       "count  265301.000000  265301.000000  265301.000000\n",
       "mean       90.345264      95.771226      97.253795\n",
       "std        17.568074      15.862048      13.690633\n",
       "min        47.000000      58.000000      57.000000\n",
       "25%        83.000000      88.000000      91.000000\n",
       "50%        85.000000      90.000000      93.000000\n",
       "75%        87.000000      94.000000      96.000000\n",
       "max       255.000000     255.000000     255.000000"
      ]
     },
     "execution_count": 127,
     "metadata": {},
     "output_type": "execute_result"
    }
   ],
   "source": [
    "water.describe()"
   ]
  },
  {
   "cell_type": "code",
   "execution_count": 128,
   "metadata": {},
   "outputs": [
    {
     "data": {
      "text/plain": [
       "<matplotlib.axes._subplots.AxesSubplot at 0x7f163bf04780>"
      ]
     },
     "execution_count": 128,
     "metadata": {},
     "output_type": "execute_result"
    },
    {
     "data": {
      "image/png": "[encoded data removed]",
      "text/plain": [
       "<Figure size 432x288 with 1 Axes>"
      ]
     },
     "metadata": {},
     "output_type": "display_data"
    }
   ],
   "source": [
    "land = df[~df['water']]\n",
    "land.boxplot()"
   ]
  },
  {
   "cell_type": "code",
   "execution_count": 129,
   "metadata": {},
   "outputs": [
    {
     "data": {
      "text/html": [
       "<div>\n",
       "<style scoped>\n",
       "    .dataframe tbody tr th:only-of-type {\n",
       "        vertical-align: middle;\n",
       "    }\n",
       "\n",
       "    .dataframe tbody tr th {\n",
       "        vertical-align: top;\n",
       "    }\n",
       "\n",
       "    .dataframe thead th {\n",
       "        text-align: right;\n",
       "    }\n",
       "</style>\n",
       "<table border=\"1\" class=\"dataframe\">\n",
       "  <thead>\n",
       "    <tr style=\"text-align: right;\">\n",
       "      <th></th>\n",
       "      <th>R</th>\n",
       "      <th>G</th>\n",
       "      <th>B</th>\n",
       "    </tr>\n",
       "  </thead>\n",
       "  <tbody>\n",
       "    <tr>\n",
       "      <th>count</th>\n",
       "      <td>734699.000000</td>\n",
       "      <td>734699.000000</td>\n",
       "      <td>734699.000000</td>\n",
       "    </tr>\n",
       "    <tr>\n",
       "      <th>mean</th>\n",
       "      <td>101.349192</td>\n",
       "      <td>119.002121</td>\n",
       "      <td>108.819552</td>\n",
       "    </tr>\n",
       "    <tr>\n",
       "      <th>std</th>\n",
       "      <td>30.830906</td>\n",
       "      <td>21.653088</td>\n",
       "      <td>22.818372</td>\n",
       "    </tr>\n",
       "    <tr>\n",
       "      <th>min</th>\n",
       "      <td>47.000000</td>\n",
       "      <td>59.000000</td>\n",
       "      <td>51.000000</td>\n",
       "    </tr>\n",
       "    <tr>\n",
       "      <th>25%</th>\n",
       "      <td>79.000000</td>\n",
       "      <td>103.000000</td>\n",
       "      <td>93.000000</td>\n",
       "    </tr>\n",
       "    <tr>\n",
       "      <th>50%</th>\n",
       "      <td>91.000000</td>\n",
       "      <td>113.000000</td>\n",
       "      <td>102.000000</td>\n",
       "    </tr>\n",
       "    <tr>\n",
       "      <th>75%</th>\n",
       "      <td>112.000000</td>\n",
       "      <td>128.000000</td>\n",
       "      <td>116.000000</td>\n",
       "    </tr>\n",
       "    <tr>\n",
       "      <th>max</th>\n",
       "      <td>255.000000</td>\n",
       "      <td>254.000000</td>\n",
       "      <td>255.000000</td>\n",
       "    </tr>\n",
       "  </tbody>\n",
       "</table>\n",
       "</div>"
      ],
      "text/plain": [
       "                   R              G              B\n",
       "count  734699.000000  734699.000000  734699.000000\n",
       "mean      101.349192     119.002121     108.819552\n",
       "std        30.830906      21.653088      22.818372\n",
       "min        47.000000      59.000000      51.000000\n",
       "25%        79.000000     103.000000      93.000000\n",
       "50%        91.000000     113.000000     102.000000\n",
       "75%       112.000000     128.000000     116.000000\n",
       "max       255.000000     254.000000     255.000000"
      ]
     },
     "execution_count": 129,
     "metadata": {},
     "output_type": "execute_result"
    }
   ],
   "source": [
    "land.describe()"
   ]
  },
  {
   "cell_type": "code",
   "execution_count": 130,
   "metadata": {},
   "outputs": [
    {
     "name": "stdout",
     "output_type": "stream",
     "text": [
      "Data set:        1000000\n",
      "Water:            265301 (0.27%)\n",
      "Land labels:      773408\n",
      "Water labels:     226592 (0.23%)\n",
      "False positives:   29132 (12.86%)\n",
      "False negatives:   67841 (8.77%)\n"
     ]
    }
   ],
   "source": [
    "water_ref = len(water)\n",
    "\n",
    "query = 'G < 94'  # R and G don seem to matter much\n",
    "water_label = df.query(query)\n",
    "false_positives = len(water_label.query('water == False'))\n",
    "water_label = len(water_label)\n",
    "\n",
    "land_label = df.query('~(%s)' % query)\n",
    "false_negatives = len(land_label.query('water == True'))\n",
    "land_label = len(land_label)\n",
    "\n",
    "data_set = len(df)\n",
    "print('Data set:        %7d' % data_set)\n",
    "print('Water:           %7d (%2.2f%%)' % (water_ref, water_ref/data_set))\n",
    "print('Land labels:     %7d' % land_label)\n",
    "print('Water labels:    %7d (%2.2f%%)' % (water_label, water_label/data_set))\n",
    "print('False positives: %7d (%2.2f%%)' % (false_positives, 100*false_positives/water_label))\n",
    "print('False negatives: %7d (%2.2f%%)' % (false_negatives, 100*false_negatives/land_label))"
   ]
  },
  {
   "cell_type": "code",
   "execution_count": 161,
   "metadata": {},
   "outputs": [],
   "source": [
    "img['BW'] = 255\n",
    "img.loc[img['G'] < 94, 'BW'] = 0\n",
    "\n",
    "pixels = img['BW'].values\n",
    "mask = Image.open('./WaterVlakkenRasterUitBGT_%s.tif' % coords)  # init image\n",
    "mask.putdata(pixels)  # overwrite\n",
    "mask.show()"
   ]
  },
  {
   "cell_type": "code",
   "execution_count": 160,
   "metadata": {},
   "outputs": [],
   "source": [
    "img['R'] = img['BW'].values\n",
    "\n",
    "mask = Image.open('./WaterVlakkenRasterUitBGT_%s.tif' % coords)  # init image\n",
    "img['B'] = np.array(mask.getdata())\n",
    "\n",
    "layers = Image.open('./%s.tif' % coords)\n",
    "pixels = [(r, g, b) for r, g, b  in img[['R', 'G', 'B']].values.tolist()]\n",
    "layers.putdata(pixels)  # overwrite\n",
    "layers.show()"
   ]
  },
  {
   "cell_type": "code",
   "execution_count": null,
   "metadata": {},
   "outputs": [],
   "source": []
  }
 ],
 "metadata": {
  "kernelspec": {
   "display_name": "Python 3",
   "language": "python",
   "name": "python3"
  },
  "language_info": {
   "codemirror_mode": {
    "name": "ipython",
    "version": 3
   },
   "file_extension": ".py",
   "mimetype": "text/x-python",
   "name": "python",
   "nbconvert_exporter": "python",
   "pygments_lexer": "ipython3",
   "version": "3.6.3"
  }
 },
 "nbformat": 4,
 "nbformat_minor": 2
}
